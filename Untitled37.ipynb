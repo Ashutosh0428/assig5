{
 "cells": [
  {
   "cell_type": "markdown",
   "id": "eb74d3cc",
   "metadata": {},
   "source": [
    "# ASSIGNMENT5"
   ]
  },
  {
   "cell_type": "markdown",
   "id": "ff785d69",
   "metadata": {},
   "source": [
    "1.\n",
    "empty dictionary code look like this {}"
   ]
  },
  {
   "cell_type": "code",
   "execution_count": 1,
   "id": "108f588a",
   "metadata": {},
   "outputs": [],
   "source": [
    "2.\n",
    "d={'foo':60}"
   ]
  },
  {
   "cell_type": "markdown",
   "id": "f9ca0fd8",
   "metadata": {},
   "source": [
    "3.\n",
    "Lists are mutable in nature\n",
    "Dictionaries are mutable, but keys do not allow duplicates"
   ]
  },
  {
   "cell_type": "code",
   "execution_count": null,
   "id": "d9e1ca2b",
   "metadata": {},
   "outputs": [],
   "source": [
    "4.\n",
    "You get a KeyError error."
   ]
  },
  {
   "cell_type": "markdown",
   "id": "4f7fe916",
   "metadata": {},
   "source": [
    "5.\n",
    "There is no difference. The in operator checks whether a value exists as a key in the dictionary.\n"
   ]
  },
  {
   "cell_type": "markdown",
   "id": "78102e65",
   "metadata": {},
   "source": [
    "6.\n",
    "'cat' in spam checks whether there is a 'cat' key in the dictionary, while 'cat' in spam.values() checks whether there is a value 'cat' for one of the keys in spam."
   ]
  },
  {
   "cell_type": "markdown",
   "id": "784079f4",
   "metadata": {},
   "source": [
    "7.\n",
    "spam.setdefault('color', 'black')"
   ]
  },
  {
   "cell_type": "code",
   "execution_count": null,
   "id": "6fee3ce1",
   "metadata": {},
   "outputs": [],
   "source": [
    "8.\n",
    "pprint.pprint()"
   ]
  }
 ],
 "metadata": {
  "kernelspec": {
   "display_name": "Python 3 (ipykernel)",
   "language": "python",
   "name": "python3"
  },
  "language_info": {
   "codemirror_mode": {
    "name": "ipython",
    "version": 3
   },
   "file_extension": ".py",
   "mimetype": "text/x-python",
   "name": "python",
   "nbconvert_exporter": "python",
   "pygments_lexer": "ipython3",
   "version": "3.9.7"
  }
 },
 "nbformat": 4,
 "nbformat_minor": 5
}
